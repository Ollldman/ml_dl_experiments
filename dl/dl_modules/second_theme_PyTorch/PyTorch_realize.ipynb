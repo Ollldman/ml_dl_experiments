{
 "cells": [
  {
   "cell_type": "markdown",
   "id": "cd5a7d23",
   "metadata": {},
   "source": [
    "# torch.Tensor"
   ]
  },
  {
   "cell_type": "markdown",
   "id": "545a28b1",
   "metadata": {},
   "source": [
    "В основе PyTorch лежит объект тензор — многомерный массив чисел, аналогичный numpy.ndarray, но с дополнительными возможностями.\n",
    "\n",
    "Тензоры могут храниться на CPU или GPU и, при необходимости, отслеживать вычисленные градиенты.\n",
    "\n",
    "Интерфейс PyTorch специально сделан похожим на NumPy, чтобы разработчику было удобно работать с данными.\n",
    "\n",
    "Давайте посмотрим на несколько тензоров в действии."
   ]
  },
  {
   "cell_type": "code",
   "execution_count": 1,
   "id": "b4dcf38a",
   "metadata": {},
   "outputs": [
    {
     "name": "stdout",
     "output_type": "stream",
     "text": [
      "tensor([1., 2., 3.]) torch.float32\n",
      "tensor([[0, 0, 0],\n",
      "        [0, 0, 0]]) torch.int64\n",
      "tensor([[0.7798, 0.4136, 0.0503],\n",
      "        [0.2354, 0.7947, 0.9279],\n",
      "        [0.0162, 0.9562, 0.2846]])\n"
     ]
    }
   ],
   "source": [
    "import torch \n",
    "\n",
    "\n",
    "a = torch.tensor([1.0, 2.0, 3.0])              # 1D-тензор из списка\n",
    "b = torch.zeros((2,3), dtype=torch.int64)      # матрица 2х3 из нулей(64-битные целы)\n",
    "c = torch.rand(3, 3)                           # случайный тензор 3х3, равномерное распределение\n",
    "\n",
    "print(a, a.dtype)\n",
    "print(b, b.dtype)\n",
    "print(c)"
   ]
  },
  {
   "cell_type": "markdown",
   "id": "33b9fa37",
   "metadata": {},
   "source": [
    "Тензоры поддерживают стандартные арифметические операции (сложение, умножение, матричные произведения и другие) и функциональные преобразования. Запустите код, чтобы проверить, как работают арифметические операции в PyTorch."
   ]
  },
  {
   "cell_type": "code",
   "execution_count": 2,
   "id": "80491943",
   "metadata": {},
   "outputs": [
    {
     "name": "stdout",
     "output_type": "stream",
     "text": [
      "tensor([ 3.7183, -1.8647, 23.0855])\n"
     ]
    }
   ],
   "source": [
    "import torch\n",
    "\n",
    "\n",
    "x = torch.tensor([1.0, -2.0, 3.0])\n",
    "y = torch.exp(x)    # элемент-wise экспонента\n",
    "z = x + y           # сложение поэлементно\n",
    "print(z) "
   ]
  },
  {
   "cell_type": "markdown",
   "id": "afd0be57",
   "metadata": {},
   "source": [
    "При необходимости тензоры можно передавать на GPU:"
   ]
  },
  {
   "cell_type": "code",
   "execution_count": 3,
   "id": "a4fcf6e2",
   "metadata": {},
   "outputs": [],
   "source": [
    "if torch.cuda.is_available():\n",
    "    a = a.to('cuda')  # переместить на CUDA-устройство "
   ]
  },
  {
   "cell_type": "markdown",
   "id": "54f4b370",
   "metadata": {},
   "source": [
    "Поскольку PyTorch тесно интегрирован с NumPy, тензоры можно конвертировать в numpy.ndarray и обратно — например, через torch.from_numpy или метод tensor.numpy()."
   ]
  },
  {
   "cell_type": "markdown",
   "id": "e2f82d13",
   "metadata": {},
   "source": [
    "# Автоматическое дифференцирование (Autograd)"
   ]
  },
  {
   "cell_type": "markdown",
   "id": "7c39ecc3",
   "metadata": {},
   "source": [
    "PyTorch имеет встроенную систему автоматического дифференцирования (autograd), которая вычисляет градиенты. Если у тензора установлено свойство requires_grad=True, PyTorch запоминает все операции над ним и может потом вычислить градиенты по цепному правилу. Например:"
   ]
  },
  {
   "cell_type": "code",
   "execution_count": 4,
   "id": "cf192e8d",
   "metadata": {},
   "outputs": [
    {
     "name": "stdout",
     "output_type": "stream",
     "text": [
      "tensor([[0.5000, 0.5000],\n",
      "        [0.5000, 0.5000]])\n"
     ]
    }
   ],
   "source": [
    "x = torch.ones(2, 2, requires_grad=True)  # создаём тензор, указывая, что нужны градиенты\n",
    "y = x * 2\n",
    "\n",
    "z = y.mean()      # свёртка: усредняем все элементы\n",
    "z.backward()      # выполняем обратный проход (backpropagation)\n",
    "print(x.grad)     # смотрим градиент dz/dx"
   ]
  },
  {
   "cell_type": "code",
   "execution_count": null,
   "id": "157b1f81",
   "metadata": {},
   "outputs": [],
   "source": []
  }
 ],
 "metadata": {
  "kernelspec": {
   "display_name": "ml-dl-experiments-m4qsJGWw-py3.13",
   "language": "python",
   "name": "python3"
  },
  "language_info": {
   "codemirror_mode": {
    "name": "ipython",
    "version": 3
   },
   "file_extension": ".py",
   "mimetype": "text/x-python",
   "name": "python",
   "nbconvert_exporter": "python",
   "pygments_lexer": "ipython3",
   "version": "3.13.7"
  }
 },
 "nbformat": 4,
 "nbformat_minor": 5
}
